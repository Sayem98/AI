{
 "cells": [
  {
   "cell_type": "code",
   "execution_count": 54,
   "id": "742abd89",
   "metadata": {},
   "outputs": [],
   "source": [
    "import tensorflow as tf\n",
    "from tensorflow.keras.layers import Dense,Conv2D,Flatten,MaxPooling2D\n",
    "from tensorflow.keras.utils import to_categorical\n",
    "from tensorflow.keras.applications.resnet50 import ResNet50\n",
    "import numpy as np\n",
    "import matplotlib.pyplot as plt"
   ]
  },
  {
   "cell_type": "code",
   "execution_count": 55,
   "id": "1f8ee87c",
   "metadata": {},
   "outputs": [],
   "source": [
    "(x_train,y_train),(x_test,y_test)=tf.keras.datasets.mnist.load_data()"
   ]
  },
  {
   "cell_type": "code",
   "execution_count": 56,
   "id": "1a467b3b",
   "metadata": {},
   "outputs": [
    {
     "data": {
      "image/png": "[encoded data removed]",
      "text/plain": [
       "<Figure size 700x700 with 9 Axes>"
      ]
     },
     "metadata": {},
     "output_type": "display_data"
    }
   ],
   "source": [
    "plt.figure(figsize=(7,7))\n",
    "for i in range(9):\n",
    "    plt.subplot(3,3,i+1)\n",
    "    plt.imshow(x_train[i],cmap=\"gray\")\n",
    "    plt.title(y_train[i])\n",
    "    plt.axis('off')\n",
    "plt.show()"
   ]
  },
  {
   "cell_type": "code",
   "execution_count": 57,
   "id": "9c92e8f4",
   "metadata": {},
   "outputs": [
    {
     "name": "stdout",
     "output_type": "stream",
     "text": [
      "Train data shape:  (60000, 28, 28, 3) ,Test data shape: (10000, 28, 28, 3)\n"
     ]
    }
   ],
   "source": [
    "x_train = np.reshape(x_train , (x_train.shape[0] , x_train.shape[1] , x_train.shape[2]))\n",
    "x_test=np.reshape(x_test,(x_test.shape[0],x_test.shape[1],x_test.shape[2]))\n",
    "\n",
    "x_train=x_train.astype(\"float32\")/255\n",
    "x_test=x_test.astype(\"float32\")/255\n",
    "\n",
    "y_train=to_categorical(y_train,10)\n",
    "y_test=to_categorical(y_test,10)\n",
    "\n",
    "x_train=np.stack((x_train,)*3,axis=-1)\n",
    "x_test=np.stack((x_test,)*3,axis=-1)\n",
    "\n",
    "print(\"Train data shape: \",x_train.shape ,\",Test data shape:\", x_test.shape)"
   ]
  },
  {
   "cell_type": "code",
   "execution_count": 58,
   "id": "16fede03",
   "metadata": {},
   "outputs": [
    {
     "name": "stdout",
     "output_type": "stream",
     "text": [
      "Model: \"sequential_8\"\n",
      "_________________________________________________________________\n",
      " Layer (type)                Output Shape              Param #   \n",
      "=================================================================\n",
      " resnet50 (Functional)       (None, 2048)              23587712  \n",
      "                                                                 \n",
      " dense_14 (Dense)            (None, 512)               1049088   \n",
      "                                                                 \n",
      " dense_15 (Dense)            (None, 10)                5130      \n",
      "                                                                 \n",
      "=================================================================\n",
      "Total params: 24,641,930\n",
      "Trainable params: 1,054,218\n",
      "Non-trainable params: 23,587,712\n",
      "_________________________________________________________________\n"
     ]
    }
   ],
   "source": [
    "model=tf.keras.Sequential()\n",
    "model.add(ResNet50(include_top=False,pooling=\"avg\",weights=\"imagenet\"))\n",
    "model.add(Dense(512,activation=\"relu\"))\n",
    "model.add(Dense(10,activation=\"softmax\"))\n",
    "\n",
    "model.layers[0].trainable=False\n",
    "\n",
    "model.summary()"
   ]
  },
  {
   "cell_type": "code",
   "execution_count": 59,
   "id": "acb9a796",
   "metadata": {},
   "outputs": [],
   "source": [
    "model.compile(loss=\"categorical_crossentropy\",optimizer=\"adam\",metrics=['acc'])"
   ]
  },
  {
   "cell_type": "code",
   "execution_count": null,
   "id": "4e2e7607",
   "metadata": {},
   "outputs": [
    {
     "name": "stdout",
     "output_type": "stream",
     "text": [
      "Epoch 1/10\n",
      "1875/1875 [==============================] - 224s 117ms/step - loss: 0.5318 - acc: 0.8331\n",
      "Epoch 2/10\n",
      "1875/1875 [==============================] - 228s 122ms/step - loss: 0.3131 - acc: 0.8980\n",
      "Epoch 3/10\n",
      "1875/1875 [==============================] - 373s 199ms/step - loss: 0.2724 - acc: 0.9114\n",
      "Epoch 4/10\n",
      "1875/1875 [==============================] - 698s 372ms/step - loss: 0.2384 - acc: 0.9220\n",
      "Epoch 5/10\n",
      " 873/1875 [============>.................] - ETA: 7:23 - loss: 0.2243 - acc: 0.9267"
     ]
    }
   ],
   "source": [
    "model.fit(x_train,y_train,batch_size = 32 , epochs = 10)"
   ]
  },
  {
   "cell_type": "code",
   "execution_count": 53,
   "id": "81d0e86a",
   "metadata": {},
   "outputs": [
    {
     "name": "stdout",
     "output_type": "stream",
     "text": [
      "92.62 %\n"
     ]
    }
   ],
   "source": [
    "history=model.evaluate(x_test,y_test,verbose=0)\n",
    "acc=history[1]*100\n",
    "print(\"%.2f\" % acc,\"%\")"
   ]
  },
  {
   "cell_type": "code",
   "execution_count": null,
   "id": "bcdceb8f",
   "metadata": {},
   "outputs": [],
   "source": []
  }
 ],
 "metadata": {
  "kernelspec": {
   "display_name": "Python 3 (ipykernel)",
   "language": "python",
   "name": "python3"
  },
  "language_info": {
   "codemirror_mode": {
    "name": "ipython",
    "version": 3
   },
   "file_extension": ".py",
   "mimetype": "text/x-python",
   "name": "python",
   "nbconvert_exporter": "python",
   "pygments_lexer": "ipython3",
   "version": "3.10.6"
  }
 },
 "nbformat": 4,
 "nbformat_minor": 5
}
