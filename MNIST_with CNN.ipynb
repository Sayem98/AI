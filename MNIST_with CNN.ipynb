{
  "cells": [
    {
      "cell_type": "code",
      "execution_count": 1,
      "id": "27a56d30",
      "metadata": {
        "id": "27a56d30"
      },
      "outputs": [],
      "source": [
        "import tensorflow as tf\n",
        "from tensorflow.keras.layers import Dense,MaxPooling2D,Flatten,Conv2D\n",
        "from tensorflow.keras.utils import to_categorical\n",
        "import numpy as np\n",
        "import matplotlib.pyplot as plt"
      ]
    },
    {
      "cell_type": "code",
      "execution_count": 11,
      "id": "dc454b93",
      "metadata": {
        "colab": {
          "base_uri": "https://localhost:8080/"
        },
        "id": "dc454b93",
        "outputId": "711cb4a0-b1f2-4dbd-a57b-0156a7c5c73a"
      },
      "outputs": [
        {
          "output_type": "stream",
          "name": "stdout",
          "text": [
            "(60000, 28, 28)\n",
            "(10000, 28, 28)\n"
          ]
        }
      ],
      "source": [
        "(x_train,y_train),(x_test,y_test)=tf.keras.datasets.mnist.load_data()\n",
        "print(x_train.shape)\n",
        "print(x_test.shape)\n"
      ]
    },
    {
      "cell_type": "code",
      "execution_count": 13,
      "id": "edaccabc",
      "metadata": {
        "colab": {
          "base_uri": "https://localhost:8080/",
          "height": 622
        },
        "id": "edaccabc",
        "outputId": "73acfadd-4bef-47b8-833b-c3afc75863be"
      },
      "outputs": [
        {
          "output_type": "display_data",
          "data": {
            "text/plain": [
              "<Figure size 700x700 with 9 Axes>"
            ],
            "image/png": "[encoded data removed]"
          },
          "metadata": {}
        }
      ],
      "source": [
        "plt.figure(figsize=(7,7))\n",
        "for i in range(9):\n",
        "    plt.subplot(3,3,i+1)\n",
        "    plt.title(\"label = \"+str(y_train[i]))\n",
        "    plt.imshow(x_train[i],cmap=\"gray\")\n",
        "    plt.axis()\n",
        "plt.show()\n"
      ]
    },
    {
      "cell_type": "code",
      "execution_count": 14,
      "id": "1f4d834a",
      "metadata": {
        "id": "1f4d834a"
      },
      "outputs": [],
      "source": [
        "x_train = np.reshape(x_train , (x_train.shape[0] , x_train.shape[1] , x_train.shape[2] , 1)) #reshape in 4D x_train\n",
        "x_test = np.reshape(x_test , (x_test.shape[0] , x_test.shape[1] , x_test.shape[2] , 1)) # reshape in 4D x_test\n",
        "\n",
        "x_train = x_train.astype('float32') / 255 # normalizing in range 0 to 1\n",
        "x_test = x_test.astype('float32') / 255 # normalizing in range 0 to 1\n",
        "\n",
        "y_train = to_categorical(y_train , 10) # one hot encoding of y_train\n",
        "y_test = to_categorical(y_test , 10) # one hot encoding of y_test"
      ]
    },
    {
      "cell_type": "code",
      "execution_count": 15,
      "id": "28a46554",
      "metadata": {
        "id": "28a46554"
      },
      "outputs": [],
      "source": [
        "model = tf.keras.Sequential() # define sequential model\n",
        "\n",
        "model.add(Conv2D(filters=32,kernel_size=(3,3),strides=(1,1),padding='valid',activation=\"relu\",input_shape=(28,28,1))) # convlution layer\n",
        "model.add(MaxPooling2D(pool_size = (2,2))) # Maxpooling for down sampling\n",
        "model.add(Conv2D(filters=64,kernel_size=(3,3),strides=(1,1),padding='valid',activation=\"relu\")) # second Convolution layer\n",
        "model.add(MaxPooling2D(pool_size = (2,2))) # Maxpooling for down sampling\n",
        "model.add(Flatten()) # Flatten layer for 1D transformation\n",
        "model.add(Dense(units = 64 , activation = \"relu\")) # Fully connected layer of 64 units\n",
        "model.add(Dense(units = 10 , activation = \"softmax\")) # output layer with 10 units as number of class = 10"
      ]
    },
    {
      "cell_type": "code",
      "execution_count": 16,
      "id": "36fb194b",
      "metadata": {
        "colab": {
          "base_uri": "https://localhost:8080/"
        },
        "id": "36fb194b",
        "outputId": "c32e3a58-3081-4c3b-a1db-2af0e631e9b3"
      },
      "outputs": [
        {
          "output_type": "stream",
          "name": "stdout",
          "text": [
            "Model: \"sequential\"\n",
            "_________________________________________________________________\n",
            " Layer (type)                Output Shape              Param #   \n",
            "=================================================================\n",
            " conv2d (Conv2D)             (None, 26, 26, 32)        320       \n",
            "                                                                 \n",
            " max_pooling2d (MaxPooling2D  (None, 13, 13, 32)       0         \n",
            " )                                                               \n",
            "                                                                 \n",
            " conv2d_1 (Conv2D)           (None, 11, 11, 64)        18496     \n",
            "                                                                 \n",
            " max_pooling2d_1 (MaxPooling  (None, 5, 5, 64)         0         \n",
            " 2D)                                                             \n",
            "                                                                 \n",
            " flatten (Flatten)           (None, 1600)              0         \n",
            "                                                                 \n",
            " dense (Dense)               (None, 64)                102464    \n",
            "                                                                 \n",
            " dense_1 (Dense)             (None, 10)                650       \n",
            "                                                                 \n",
            "=================================================================\n",
            "Total params: 121,930\n",
            "Trainable params: 121,930\n",
            "Non-trainable params: 0\n",
            "_________________________________________________________________\n"
          ]
        }
      ],
      "source": [
        "model.compile(optimizer=\"adam\",loss=\"categorical_crossentropy\",metrics=['acc'])\n",
        "model.summary()"
      ]
    },
    {
      "cell_type": "code",
      "execution_count": null,
      "id": "a95f4c43",
      "metadata": {
        "scrolled": true,
        "id": "a95f4c43",
        "outputId": "667cd593-1451-4a0b-ba99-ebb169dd78c9"
      },
      "outputs": [
        {
          "name": "stdout",
          "output_type": "stream",
          "text": [
            "Epoch 1/10\n",
            "1875/1875 [==============================] - 43s 21ms/step - loss: 0.1369 - acc: 0.9583\n",
            "Epoch 2/10\n",
            "1875/1875 [==============================] - 49s 26ms/step - loss: 0.0461 - acc: 0.9855\n",
            "Epoch 3/10\n",
            "1875/1875 [==============================] - 51s 27ms/step - loss: 0.0319 - acc: 0.9900\n",
            "Epoch 4/10\n",
            "1875/1875 [==============================] - 53s 28ms/step - loss: 0.0233 - acc: 0.9925\n",
            "Epoch 5/10\n",
            "1875/1875 [==============================] - 42s 22ms/step - loss: 0.0180 - acc: 0.9944\n",
            "Epoch 6/10\n",
            "1875/1875 [==============================] - 39s 21ms/step - loss: 0.0141 - acc: 0.9954\n",
            "Epoch 7/10\n",
            "1875/1875 [==============================] - 39s 21ms/step - loss: 0.0102 - acc: 0.9968\n",
            "Epoch 8/10\n",
            "1875/1875 [==============================] - 39s 21ms/step - loss: 0.0089 - acc: 0.9972\n",
            "Epoch 9/10\n",
            "1875/1875 [==============================] - 38s 20ms/step - loss: 0.0089 - acc: 0.9973\n",
            "Epoch 10/10\n",
            "1875/1875 [==============================] - 38s 20ms/step - loss: 0.0069 - acc: 0.9978\n"
          ]
        },
        {
          "data": {
            "text/plain": [
              "<keras.callbacks.History at 0x24b8cb3d5a0>"
            ]
          },
          "execution_count": 63,
          "metadata": {},
          "output_type": "execute_result"
        }
      ],
      "source": [
        "model.fit(x_train,y_train,batch_size = 32 , epochs = 10)"
      ]
    },
    {
      "cell_type": "code",
      "execution_count": null,
      "id": "55d0e1b3",
      "metadata": {
        "id": "55d0e1b3",
        "outputId": "c6f3e1e4-62d3-460d-9350-6f047e6f506e"
      },
      "outputs": [
        {
          "name": "stdout",
          "output_type": "stream",
          "text": [
            "99.19 %\n"
          ]
        }
      ],
      "source": [
        "history=model.evaluate(x_test,y_test,verbose=0)\n",
        "acc=history[1]*100\n",
        "print(\"%.2f\"%acc,\"%\")"
      ]
    },
    {
      "cell_type": "code",
      "execution_count": null,
      "id": "cec39119",
      "metadata": {
        "id": "cec39119",
        "outputId": "a4ee3e02-96c2-4847-c1ad-ee4cbfab947a"
      },
      "outputs": [
        {
          "name": "stdout",
          "output_type": "stream",
          "text": [
            "1/1 [==============================] - 0s 29ms/step\n"
          ]
        },
        {
          "data": {
            "image/png": "[encoded data removed]",
            "text/plain": [
              "<Figure size 640x480 with 9 Axes>"
            ]
          },
          "metadata": {},
          "output_type": "display_data"
        }
      ],
      "source": [
        "test_img=x_test[100:109]\n",
        "test_predictions=model.predict(test_img)\n",
        "for i in range(9):\n",
        "    plt.subplot(3,3,i+1)\n",
        "    plt.imshow(test_img[i],cmap=\"gray\")\n",
        "    plt.title(str(np.argmax(test_predictions[i])))\n",
        "    plt.axis('off')\n",
        "plt.show()"
      ]
    },
    {
      "cell_type": "code",
      "execution_count": null,
      "id": "3ade040c",
      "metadata": {
        "id": "3ade040c"
      },
      "outputs": [],
      "source": []
    }
  ],
  "metadata": {
    "kernelspec": {
      "display_name": "Python 3 (ipykernel)",
      "language": "python",
      "name": "python3"
    },
    "language_info": {
      "codemirror_mode": {
        "name": "ipython",
        "version": 3
      },
      "file_extension": ".py",
      "mimetype": "text/x-python",
      "name": "python",
      "nbconvert_exporter": "python",
      "pygments_lexer": "ipython3",
      "version": "3.11.4"
    },
    "colab": {
      "provenance": []
    }
  },
  "nbformat": 4,
  "nbformat_minor": 5
}