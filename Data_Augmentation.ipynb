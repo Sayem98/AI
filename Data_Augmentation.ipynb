{
  "nbformat": 4,
  "nbformat_minor": 0,
  "metadata": {
    "colab": {
      "provenance": [],
      "gpuType": "T4"
    },
    "kernelspec": {
      "name": "python3",
      "display_name": "Python 3"
    },
    "language_info": {
      "name": "python"
    },
    "accelerator": "GPU"
  },
  "cells": [
    {
      "cell_type": "markdown",
      "source": [
        "### 3. Design a Customized DNN for Handwritten Digit Classification and train the model with MNIST Dataset.\n",
        "### 4. Apply Data Augmentation in MNIST Dataset to compare the augmented dataset results with the original MNIST dataset."
      ],
      "metadata": {
        "id": "r6OUCHWYqW4N"
      }
    },
    {
      "cell_type": "markdown",
      "source": [
        "*Importing required  packages*"
      ],
      "metadata": {
        "id": "LbnKsGDDq8R9"
      }
    },
    {
      "cell_type": "code",
      "execution_count": 1,
      "metadata": {
        "id": "2WdwCzpnqRsR"
      },
      "outputs": [],
      "source": [
        "import numpy as np\n",
        "import matplotlib.pyplot as plt\n",
        "from tensorflow.keras.models import Sequential, load_model\n",
        "from tensorflow.keras.layers import Dense, Input, Flatten\n",
        "from tensorflow.keras.utils import to_categorical\n",
        "from tensorflow.keras.datasets import mnist\n",
        "from tensorflow.keras.preprocessing.image import ImageDataGenerator"
      ]
    },
    {
      "cell_type": "markdown",
      "source": [
        "*load MNIST dataset and preprocess*"
      ],
      "metadata": {
        "id": "vBsynE5eu0F1"
      }
    },
    {
      "cell_type": "code",
      "source": [
        "(x_train, y_train), (x_test, y_test) = mnist.load_data()\n",
        "print(x_train.shape)\n",
        "print(x_test.shape)"
      ],
      "metadata": {
        "colab": {
          "base_uri": "https://localhost:8080/"
        },
        "id": "Rm-CKKvZuAtl",
        "outputId": "4c6be803-447b-483c-b077-36bb90c535b0"
      },
      "execution_count": 2,
      "outputs": [
        {
          "output_type": "stream",
          "name": "stdout",
          "text": [
            "Downloading data from https://storage.googleapis.com/tensorflow/tf-keras-datasets/mnist.npz\n",
            "11490434/11490434 [==============================] - 0s 0us/step\n",
            "(60000, 28, 28)\n",
            "(10000, 28, 28)\n"
          ]
        }
      ]
    },
    {
      "cell_type": "code",
      "source": [
        "plt.figure(figsize=(10,10))\n",
        "for i in range(0,7):\n",
        "    plt.subplot(2,4,i+1)\n",
        "    plt.imshow(x_train[i], cmap='gray')\n",
        "    plt.title(str(y_train[i]))\n",
        "plt.show()"
      ],
      "metadata": {
        "id": "pBpsepcd5dKI",
        "colab": {
          "base_uri": "https://localhost:8080/",
          "height": 671
        },
        "outputId": "fd03f605-4d53-446c-f32a-92b90c6773ff"
      },
      "execution_count": 6,
      "outputs": [
        {
          "output_type": "display_data",
          "data": {
            "text/plain": [
              "<Figure size 1000x1000 with 7 Axes>"
            ],
            "image/png": "[encoded data removed]"
          },
          "metadata": {}
        }
      ]
    },
    {
      "cell_type": "markdown",
      "source": [
        "data reshaping"
      ],
      "metadata": {
        "id": "_-HT-zyKwuH1"
      }
    },
    {
      "cell_type": "code",
      "source": [
        "# 2d-> 3d\n",
        "x_train = x_train.reshape((x_train.shape[0], 28 , 28, 1))\n",
        "x_test = x_test.reshape((x_test.shape[0], 28 , 28, 1))\n",
        "print(x_train.shape)\n",
        "print(x_test.shape)"
      ],
      "metadata": {
        "colab": {
          "base_uri": "https://localhost:8080/"
        },
        "id": "nyFSE3mqwtFt",
        "outputId": "59c6b621-d28c-4ce5-da48-b9e097e526df"
      },
      "execution_count": 7,
      "outputs": [
        {
          "output_type": "stream",
          "name": "stdout",
          "text": [
            "(60000, 28, 28, 1)\n",
            "(10000, 28, 28, 1)\n"
          ]
        }
      ]
    },
    {
      "cell_type": "markdown",
      "source": [
        "*One hot encoding*\n"
      ],
      "metadata": {
        "id": "yM_W1tuLzArk"
      }
    },
    {
      "cell_type": "code",
      "source": [
        "y_train = to_categorical(y_train) # if image is 4 then y_train array index 4 is 1 other is 0\n",
        "y_test = to_categorical(y_test )\n"
      ],
      "metadata": {
        "id": "BlLFqQgay--9"
      },
      "execution_count": 8,
      "outputs": []
    },
    {
      "cell_type": "markdown",
      "source": [
        "*data normalization*"
      ],
      "metadata": {
        "id": "z9HkyuF6z41d"
      }
    },
    {
      "cell_type": "code",
      "source": [
        "x_train = x_train / 255.0\n",
        "x_test = x_test / 255.0"
      ],
      "metadata": {
        "id": "sd2sKU2jzAI9"
      },
      "execution_count": 9,
      "outputs": []
    },
    {
      "cell_type": "markdown",
      "source": [
        "##Building the model"
      ],
      "metadata": {
        "id": "6mSkXK8h0UxU"
      }
    },
    {
      "cell_type": "code",
      "source": [
        "model1= Sequential([\n",
        "        Flatten(input_shape=(28, 28, 1)), # channel 1 / gray scale\n",
        "        Dense(512, activation = 'relu', name = \"hidden_layer-1\"),\n",
        "        Dense(256, activation = 'relu', name = \"hidden_layer-2\"),\n",
        "        Dense(128, activation = 'relu', name = \"hidden_layer-3\"),\n",
        "        Dense(64, activation = 'relu', name = \"hidden_layer-4\"),\n",
        "        Dense(10, activation = 'softmax', name = \"output_layer\") # 10 because 10 multi-layer output\n",
        "])\n",
        "model1.compile(optimizer='adam', loss='categorical_crossentropy', metrics=['accuracy'])\n",
        "model1.summary()\n",
        "# For example, if you have 60,000 training samples and a batch size of 32, there will be 60,000/32 = 1875 batches in an epoch.\n",
        "# In the example you mentioned, a batch size of 32 means that 32 training samples\n",
        "# will be processed together before the model's weights are updated."
      ],
      "metadata": {
        "colab": {
          "base_uri": "https://localhost:8080/"
        },
        "id": "gtgJ3pSS0TJW",
        "outputId": "624a7d16-81b7-4644-9a3b-dd2ce627851a"
      },
      "execution_count": 10,
      "outputs": [
        {
          "output_type": "stream",
          "name": "stdout",
          "text": [
            "Model: \"sequential\"\n",
            "_________________________________________________________________\n",
            " Layer (type)                Output Shape              Param #   \n",
            "=================================================================\n",
            " flatten (Flatten)           (None, 784)               0         \n",
            "                                                                 \n",
            " hidden_layer-1 (Dense)      (None, 512)               401920    \n",
            "                                                                 \n",
            " hidden_layer-2 (Dense)      (None, 256)               131328    \n",
            "                                                                 \n",
            " hidden_layer-3 (Dense)      (None, 128)               32896     \n",
            "                                                                 \n",
            " hidden_layer-4 (Dense)      (None, 64)                8256      \n",
            "                                                                 \n",
            " output_layer (Dense)        (None, 10)                650       \n",
            "                                                                 \n",
            "=================================================================\n",
            "Total params: 575,050\n",
            "Trainable params: 575,050\n",
            "Non-trainable params: 0\n",
            "_________________________________________________________________\n"
          ]
        }
      ]
    },
    {
      "cell_type": "code",
      "source": [
        "model1.fit(x_train, y_train, epochs= 20)"
      ],
      "metadata": {
        "colab": {
          "base_uri": "https://localhost:8080/"
        },
        "id": "L-ja5ZBh29IV",
        "outputId": "8a904659-744d-4d4e-dd68-314c5b72b308"
      },
      "execution_count": 11,
      "outputs": [
        {
          "output_type": "stream",
          "name": "stdout",
          "text": [
            "Epoch 1/20\n",
            "1875/1875 [==============================] - 12s 3ms/step - loss: 0.2133 - accuracy: 0.9357\n",
            "Epoch 2/20\n",
            "1875/1875 [==============================] - 8s 4ms/step - loss: 0.0937 - accuracy: 0.9718\n",
            "Epoch 3/20\n",
            "1875/1875 [==============================] - 6s 3ms/step - loss: 0.0673 - accuracy: 0.9797\n",
            "Epoch 4/20\n",
            "1875/1875 [==============================] - 7s 4ms/step - loss: 0.0528 - accuracy: 0.9833\n",
            "Epoch 5/20\n",
            "1875/1875 [==============================] - 6s 3ms/step - loss: 0.0421 - accuracy: 0.9869\n",
            "Epoch 6/20\n",
            "1875/1875 [==============================] - 7s 4ms/step - loss: 0.0369 - accuracy: 0.9888\n",
            "Epoch 7/20\n",
            "1875/1875 [==============================] - 6s 3ms/step - loss: 0.0300 - accuracy: 0.9910\n",
            "Epoch 8/20\n",
            "1875/1875 [==============================] - 6s 3ms/step - loss: 0.0278 - accuracy: 0.9918\n",
            "Epoch 9/20\n",
            "1875/1875 [==============================] - 6s 3ms/step - loss: 0.0252 - accuracy: 0.9925\n",
            "Epoch 10/20\n",
            "1875/1875 [==============================] - 6s 3ms/step - loss: 0.0210 - accuracy: 0.9940\n",
            "Epoch 11/20\n",
            "1875/1875 [==============================] - 7s 4ms/step - loss: 0.0224 - accuracy: 0.9938\n",
            "Epoch 12/20\n",
            "1875/1875 [==============================] - 6s 3ms/step - loss: 0.0181 - accuracy: 0.9946\n",
            "Epoch 13/20\n",
            "1875/1875 [==============================] - 7s 4ms/step - loss: 0.0171 - accuracy: 0.9951\n",
            "Epoch 14/20\n",
            "1875/1875 [==============================] - 6s 3ms/step - loss: 0.0176 - accuracy: 0.9949\n",
            "Epoch 15/20\n",
            "1875/1875 [==============================] - 7s 4ms/step - loss: 0.0170 - accuracy: 0.9954\n",
            "Epoch 16/20\n",
            "1875/1875 [==============================] - 6s 3ms/step - loss: 0.0165 - accuracy: 0.9957\n",
            "Epoch 17/20\n",
            "1875/1875 [==============================] - 7s 4ms/step - loss: 0.0128 - accuracy: 0.9966\n",
            "Epoch 18/20\n",
            "1875/1875 [==============================] - 6s 3ms/step - loss: 0.0155 - accuracy: 0.9962\n",
            "Epoch 19/20\n",
            "1875/1875 [==============================] - 7s 4ms/step - loss: 0.0123 - accuracy: 0.9968\n",
            "Epoch 20/20\n",
            "1875/1875 [==============================] - 6s 3ms/step - loss: 0.0126 - accuracy: 0.9966\n"
          ]
        },
        {
          "output_type": "execute_result",
          "data": {
            "text/plain": [
              "<keras.callbacks.History at 0x7f3fe4da5b70>"
            ]
          },
          "metadata": {},
          "execution_count": 11
        }
      ]
    },
    {
      "cell_type": "code",
      "source": [
        "_,accuracy = model1.evaluate(x_test, y_test, verbose = 0)\n",
        "print(\"Accuracy on Test dataset = \", format(accuracy*100,'.2f'),'%')"
      ],
      "metadata": {
        "colab": {
          "base_uri": "https://localhost:8080/"
        },
        "id": "EfUhXrF-4K-9",
        "outputId": "29505581-4341-4162-8fbb-4c410628ea7f"
      },
      "execution_count": 12,
      "outputs": [
        {
          "output_type": "stream",
          "name": "stdout",
          "text": [
            "Accuracy on Test dataset =  98.15 %\n"
          ]
        }
      ]
    },
    {
      "cell_type": "markdown",
      "source": [
        "## Data augmentation"
      ],
      "metadata": {
        "id": "K5WXJmYp7pw-"
      }
    },
    {
      "cell_type": "code",
      "source": [
        "# data augmentation used for increase dataset and diversity\n",
        "\n",
        "datagen = ImageDataGenerator(\n",
        "    rotation_range = 10,# 10% rotate\n",
        "    zoom_range  = 0.2,# 20% zoom in and out\n",
        "    width_shift_range = 0.1,# Specify the range of random horizontal and vertical shifts that can be applied to the images.\n",
        "    height_shift_range = 0.1,\n",
        "    shear_range = 0.1\n",
        ")\n",
        "\n",
        "datagen.fit(x_train)"
      ],
      "metadata": {
        "id": "zbNojryo7pHk"
      },
      "execution_count": 15,
      "outputs": []
    },
    {
      "cell_type": "code",
      "source": [
        "model2= Sequential([\n",
        "        Flatten(input_shape=(28, 28, 1)),\n",
        "        Dense(512, activation = 'relu', name = \"hidden_layer-1\"),\n",
        "        Dense(256, activation = 'relu', name = \"hidden_layer-2\"),\n",
        "        Dense(128, activation = 'relu', name = \"hidden_layer-3\"),\n",
        "        Dense(64, activation = 'relu', name = \"hidden_layer-4\"),\n",
        "        Dense(10, activation = 'softmax', name = \"output_layer\")\n",
        "])\n",
        "model2.compile(optimizer='adam', loss='categorical_crossentropy', metrics=['accuracy'])\n",
        "model2.summary()"
      ],
      "metadata": {
        "colab": {
          "base_uri": "https://localhost:8080/"
        },
        "id": "vshlboB692a8",
        "outputId": "ea02f50f-d6ba-4cd2-f62a-89b88e4df653"
      },
      "execution_count": 16,
      "outputs": [
        {
          "output_type": "stream",
          "name": "stdout",
          "text": [
            "Model: \"sequential_1\"\n",
            "_________________________________________________________________\n",
            " Layer (type)                Output Shape              Param #   \n",
            "=================================================================\n",
            " flatten_1 (Flatten)         (None, 784)               0         \n",
            "                                                                 \n",
            " hidden_layer-1 (Dense)      (None, 512)               401920    \n",
            "                                                                 \n",
            " hidden_layer-2 (Dense)      (None, 256)               131328    \n",
            "                                                                 \n",
            " hidden_layer-3 (Dense)      (None, 128)               32896     \n",
            "                                                                 \n",
            " hidden_layer-4 (Dense)      (None, 64)                8256      \n",
            "                                                                 \n",
            " output_layer (Dense)        (None, 10)                650       \n",
            "                                                                 \n",
            "=================================================================\n",
            "Total params: 575,050\n",
            "Trainable params: 575,050\n",
            "Non-trainable params: 0\n",
            "_________________________________________________________________\n"
          ]
        }
      ]
    },
    {
      "cell_type": "code",
      "source": [
        "model2.fit(datagen.flow(x_train, y_train, batch_size=32), epochs= 20)"
      ],
      "metadata": {
        "colab": {
          "base_uri": "https://localhost:8080/"
        },
        "id": "sx5Ro3eq9z9s",
        "outputId": "55fc5f66-1fc7-4d45-a0aa-38182a6e2ffc"
      },
      "execution_count": 17,
      "outputs": [
        {
          "output_type": "stream",
          "name": "stdout",
          "text": [
            "Epoch 1/20\n",
            "1875/1875 [==============================] - 26s 13ms/step - loss: 0.4192 - accuracy: 0.8675\n",
            "Epoch 2/20\n",
            "1875/1875 [==============================] - 26s 14ms/step - loss: 0.2035 - accuracy: 0.9375\n",
            "Epoch 3/20\n",
            "1875/1875 [==============================] - 33s 17ms/step - loss: 0.1644 - accuracy: 0.9492\n",
            "Epoch 4/20\n",
            "1875/1875 [==============================] - 27s 14ms/step - loss: 0.1474 - accuracy: 0.9551\n",
            "Epoch 5/20\n",
            "1875/1875 [==============================] - 25s 13ms/step - loss: 0.1318 - accuracy: 0.9601\n",
            "Epoch 6/20\n",
            "1875/1875 [==============================] - 24s 13ms/step - loss: 0.1220 - accuracy: 0.9626\n",
            "Epoch 7/20\n",
            "1875/1875 [==============================] - 24s 13ms/step - loss: 0.1158 - accuracy: 0.9652\n",
            "Epoch 8/20\n",
            "1875/1875 [==============================] - 24s 13ms/step - loss: 0.1093 - accuracy: 0.9667\n",
            "Epoch 9/20\n",
            "1875/1875 [==============================] - 26s 14ms/step - loss: 0.1032 - accuracy: 0.9683\n",
            "Epoch 10/20\n",
            "1875/1875 [==============================] - 25s 13ms/step - loss: 0.0995 - accuracy: 0.9699\n",
            "Epoch 11/20\n",
            "1875/1875 [==============================] - 24s 13ms/step - loss: 0.0972 - accuracy: 0.9704\n",
            "Epoch 12/20\n",
            "1875/1875 [==============================] - 24s 13ms/step - loss: 0.0919 - accuracy: 0.9722\n",
            "Epoch 13/20\n",
            "1875/1875 [==============================] - 25s 13ms/step - loss: 0.0910 - accuracy: 0.9724\n",
            "Epoch 14/20\n",
            "1875/1875 [==============================] - 24s 13ms/step - loss: 0.0880 - accuracy: 0.9734\n",
            "Epoch 15/20\n",
            "1875/1875 [==============================] - 24s 13ms/step - loss: 0.0856 - accuracy: 0.9737\n",
            "Epoch 16/20\n",
            "1875/1875 [==============================] - 24s 13ms/step - loss: 0.0845 - accuracy: 0.9748\n",
            "Epoch 17/20\n",
            "1875/1875 [==============================] - 24s 13ms/step - loss: 0.0804 - accuracy: 0.9752\n",
            "Epoch 18/20\n",
            "1875/1875 [==============================] - 24s 13ms/step - loss: 0.0823 - accuracy: 0.9759\n",
            "Epoch 19/20\n",
            "1875/1875 [==============================] - 24s 13ms/step - loss: 0.0789 - accuracy: 0.9764\n",
            "Epoch 20/20\n",
            "1875/1875 [==============================] - 24s 13ms/step - loss: 0.0768 - accuracy: 0.9770\n"
          ]
        },
        {
          "output_type": "execute_result",
          "data": {
            "text/plain": [
              "<keras.callbacks.History at 0x7f3fe20e6e30>"
            ]
          },
          "metadata": {},
          "execution_count": 17
        }
      ]
    },
    {
      "cell_type": "code",
      "source": [
        "_,accuracy = model2.evaluate(x_test, y_test, verbose = 0)\n",
        "print(\"Accuracy on Test dataset = \", format(accuracy*100,'.2f'),'%')"
      ],
      "metadata": {
        "colab": {
          "base_uri": "https://localhost:8080/"
        },
        "id": "O-cR426QBDTt",
        "outputId": "af3ed1af-748f-4e82-a1cf-1d1f57948633"
      },
      "execution_count": 18,
      "outputs": [
        {
          "output_type": "stream",
          "name": "stdout",
          "text": [
            "Accuracy on Test dataset =  98.75 %\n"
          ]
        }
      ]
    },
    {
      "cell_type": "code",
      "source": [],
      "metadata": {
        "id": "Tn99uNCAznYl"
      },
      "execution_count": null,
      "outputs": []
    }
  ]
}